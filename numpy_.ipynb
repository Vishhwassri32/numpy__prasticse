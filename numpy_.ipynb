{
  "nbformat": 4,
  "nbformat_minor": 0,
  "metadata": {
    "colab": {
      "provenance": [],
      "authorship_tag": "ABX9TyNWFiUWQehaR8RKd3vHk/Ef",
      "include_colab_link": true
    },
    "kernelspec": {
      "name": "python3",
      "display_name": "Python 3"
    },
    "language_info": {
      "name": "python"
    }
  },
  "cells": [
    {
      "cell_type": "markdown",
      "metadata": {
        "id": "view-in-github",
        "colab_type": "text"
      },
      "source": [
        "<a href=\"https://colab.research.google.com/github/Vishhwassri32/numpy__prasticse/blob/main/numpy_.ipynb\" target=\"_parent\"><img src=\"https://colab.research.google.com/assets/colab-badge.svg\" alt=\"Open In Colab\"/></a>"
      ]
    },
    {
      "cell_type": "code",
      "execution_count": null,
      "metadata": {
        "id": "SG7PP1QSmcNn"
      },
      "outputs": [],
      "source": [
        "import numpy as np\n",
        "students = np.array([\"Aman\", \"Vishwas\", \"Priya\", \"Rohit\", \"Neha\"])\n",
        "\n",
        "# Marks: [Maths, Science, English]\n",
        "marks = np.array([\n",
        "    [78, 85, 90],\n",
        "    [90, 88, 95],\n",
        "    [65, 70, 60],\n",
        "    [82, 79, 85],\n",
        "    [95, 92, 98]\n",
        "])\n"
      ]
    },
    {
      "cell_type": "code",
      "source": [
        "np.sum(marks)"
      ],
      "metadata": {
        "colab": {
          "base_uri": "https://localhost:8080/"
        },
        "id": "qh1pPO0onFCG",
        "outputId": "35c9997d-1ef7-4536-c012-400d5f8bd189"
      },
      "execution_count": null,
      "outputs": [
        {
          "output_type": "execute_result",
          "data": {
            "text/plain": [
              "np.int64(1252)"
            ]
          },
          "metadata": {},
          "execution_count": 3
        }
      ]
    },
    {
      "cell_type": "code",
      "source": [
        "np.max"
      ],
      "metadata": {
        "colab": {
          "base_uri": "https://localhost:8080/"
        },
        "id": "nePlD8gunWBV",
        "outputId": "b278bfba-9d3d-4d80-e901-8fd43c46fe0a"
      },
      "execution_count": null,
      "outputs": [
        {
          "output_type": "execute_result",
          "data": {
            "text/plain": [
              "<function max at 0x78f2ae9ef670>"
            ]
          },
          "metadata": {},
          "execution_count": 4
        }
      ]
    },
    {
      "cell_type": "code",
      "source": [],
      "metadata": {
        "id": "GYW_p8sPYkyd"
      },
      "execution_count": null,
      "outputs": []
    },
    {
      "cell_type": "code",
      "source": [
        "np.min"
      ],
      "metadata": {
        "colab": {
          "base_uri": "https://localhost:8080/"
        },
        "id": "AFDF06FMnc_d",
        "outputId": "0f9038e3-d678-4661-87d0-825cdf12625b"
      },
      "execution_count": null,
      "outputs": [
        {
          "output_type": "execute_result",
          "data": {
            "text/plain": [
              "<function min at 0x78f2ae9efa70>"
            ]
          },
          "metadata": {},
          "execution_count": 5
        }
      ]
    },
    {
      "cell_type": "code",
      "source": [
        "# 1. हर student का average marks\n",
        "avg_marks = marks.mean(axis=1)\n",
        "print(\"Average Marks of Students:\", avg_marks)\n",
        "\n",
        "# 2. हर subject का topper\n",
        "subject_topper = marks.argmax(axis=0)\n",
        "print(\"Maths Topper:\", students[subject_topper[0]])\n",
        "print(\"Science Topper:\", students[subject_topper[1]])\n",
        "print(\"English Topper:\", students[subject_topper[2]])\n",
        "\n",
        "# 3. Overall topper\n",
        "overall_topper = avg_marks.argmax()\n",
        "print(\"Overall Topper:\", students[overall_topper])\n",
        "\n",
        "# 4. Subject-wise average\n",
        "subject_avg = marks.mean(axis=0)\n",
        "print(\"Average in Maths, Science, English:\", subject_avg)\n",
        "\n",
        "# 5. Pass/Fail (assume pass = 40+ in all subjects)\n",
        "pass_fail = np.all(marks >= 40, axis=1)\n",
        "print(\"Pass/Fail Status:\", pass_fail)\n"
      ],
      "metadata": {
        "colab": {
          "base_uri": "https://localhost:8080/"
        },
        "id": "KL_FtDQioRDH",
        "outputId": "142b54bf-c4dc-4d22-8086-b6d9c8581c6a"
      },
      "execution_count": null,
      "outputs": [
        {
          "output_type": "stream",
          "name": "stdout",
          "text": [
            "Average Marks of Students: [84.33333333 91.         65.         82.         95.        ]\n",
            "Maths Topper: Neha\n",
            "Science Topper: Neha\n",
            "English Topper: Neha\n",
            "Overall Topper: Neha\n",
            "Average in Maths, Science, English: [82.  82.8 85.6]\n",
            "Pass/Fail Status: [ True  True  True  True  True]\n"
          ]
        }
      ]
    },
    {
      "cell_type": "code",
      "source": [
        "dta=np.mean(marks)\n",
        "print(dta)"
      ],
      "metadata": {
        "colab": {
          "base_uri": "https://localhost:8080/"
        },
        "id": "JfbmY5Blr9tp",
        "outputId": "136d408c-7ab4-47b4-d1fa-876f909f11fb"
      },
      "execution_count": null,
      "outputs": [
        {
          "output_type": "stream",
          "name": "stdout",
          "text": [
            "83.46666666666667\n"
          ]
        }
      ]
    },
    {
      "cell_type": "code",
      "source": [
        "dte=np.median(marks)\n",
        "print(dte)"
      ],
      "metadata": {
        "colab": {
          "base_uri": "https://localhost:8080/"
        },
        "id": "WkVq6mlQsPVt",
        "outputId": "206e7e9b-c189-4260-85a9-84e79e07f287"
      },
      "execution_count": null,
      "outputs": [
        {
          "output_type": "stream",
          "name": "stdout",
          "text": [
            "85.0\n"
          ]
        }
      ]
    },
    {
      "cell_type": "code",
      "source": [
        "dte=np.std(marks)\n",
        "print(dte)"
      ],
      "metadata": {
        "colab": {
          "base_uri": "https://localhost:8080/"
        },
        "id": "X29IyfiCs1U4",
        "outputId": "c0c542a3-0211-430b-9e75-0272f5fba8b0"
      },
      "execution_count": null,
      "outputs": [
        {
          "output_type": "stream",
          "name": "stdout",
          "text": [
            "10.91095270308184\n"
          ]
        }
      ]
    },
    {
      "cell_type": "code",
      "source": [
        "dte=np.var(marks)\n",
        "print(dte)"
      ],
      "metadata": {
        "colab": {
          "base_uri": "https://localhost:8080/"
        },
        "id": "FYzrVfkMtFV1",
        "outputId": "fc0ecdd6-f52a-4b6c-da0d-882796a03fe8"
      },
      "execution_count": null,
      "outputs": [
        {
          "output_type": "stream",
          "name": "stdout",
          "text": [
            "119.0488888888889\n"
          ]
        }
      ]
    },
    {
      "cell_type": "code",
      "source": [
        "dte=np.min(marks)\n",
        "print(\" min marks ofsudent :\",dte)\n",
        "dte=np.max(marks)\n",
        "print(\" max marks ofsudent :\",dte)"
      ],
      "metadata": {
        "colab": {
          "base_uri": "https://localhost:8080/"
        },
        "id": "XHmn9dQ9ucGa",
        "outputId": "d8e0c335-f112-436c-f02c-24cbfac7b76c"
      },
      "execution_count": null,
      "outputs": [
        {
          "output_type": "stream",
          "name": "stdout",
          "text": [
            " min marks ofsudent : 60\n",
            " max marks ofsudent : 98\n"
          ]
        }
      ]
    },
    {
      "cell_type": "code",
      "source": [
        "s = np.array([ [5, 3, 4, 6, 7, 8, 9, 1, 2], [6, 7, 2, 1, 9, 5, 3, 4, 8], [1, 9, 8, 3, 4, 2, 5, 6, 7],\n",
        "\n",
        "[8, 5, 9, 7, 6, 1, 4, 2, 3],\n",
        "[4, 2, 6, 8, 5, 3, 7, 9, 1],\n",
        "[7, 1, 3, 9, 2, 4, 8, 5, 6],\n",
        "\n",
        "[9, 6, 1, 5, 3, 7, 2, 8, 4],\n",
        "[2, 8, 7, 4, 1, 9, 6, 3, 5],\n",
        "[3, 4, 5, 2, 8, 6, 1, 7, 9]])\n"
      ],
      "metadata": {
        "id": "ia9C39YTx-vq"
      },
      "execution_count": null,
      "outputs": []
    },
    {
      "cell_type": "code",
      "source": [
        "import numpy as np\n",
        "s = np.array([ [5, 3, 4, 6, 7, 8, 9, 1, 2], [6, 7, 2, 1, 9, 5, 3, 4, 8], [1, 9, 8, 3, 4, 2, 5, 6, 7],\n",
        "\n",
        "[8, 5, 9, 7, 6, 1, 4, 2, 3],\n",
        "[4, 2, 6, 8, 5, 3, 7, 9, 1],\n",
        "[7, 1, 3, 9, 2, 4, 8, 5, 6],\n",
        "\n",
        "[9, 6, 1, 5, 3, 7, 2, 8, 4],\n",
        "[2, 8, 7, 4, 1, 9, 6, 3, 5],\n",
        "[3, 4, 5, 2, 8, 6, 1, 7, 9]])\n",
        "\n",
        "np.sum(s,axis=1)"
      ],
      "metadata": {
        "colab": {
          "base_uri": "https://localhost:8080/"
        },
        "id": "cvTMtkA2zM1P",
        "outputId": "0175a71b-bf66-4977-d4dd-90a0151c21d8"
      },
      "execution_count": 4,
      "outputs": [
        {
          "output_type": "execute_result",
          "data": {
            "text/plain": [
              "array([45, 45, 45, 45, 45, 45, 45, 45, 45])"
            ]
          },
          "metadata": {},
          "execution_count": 4
        }
      ]
    },
    {
      "cell_type": "code",
      "source": [
        "s = np.array([ [5, 3, 4, 6, 7, 8, 9, 1, 2], [6, 7, 2, 1, 9, 5, 3, 4, 8], [1, 9, 8, 3, 4, 2, 5, 6, 7],\n",
        "\n",
        "[8, 5, 9, 7, 6, 1, 4, 2, 3],\n",
        "[4, 2, 6, 8, 5, 3, 7, 9, 1],\n",
        "[7, 1, 3, 9, 2, 4, 8, 5, 6],\n",
        "\n",
        "[9, 6, 1, 5, 3, 7, 2, 8, 4],\n",
        "[2, 8, 7, 4, 1, 9, 6, 3, 5],\n",
        "[3, 4, 5, 2, 8, 6, 1, 7, 9]])\n",
        "np.sum(s,axis=0)\n",
        "np.sum(s,axis=1)"
      ],
      "metadata": {
        "colab": {
          "base_uri": "https://localhost:8080/"
        },
        "id": "rV7DRucOzzNz",
        "outputId": "dbf38986-065e-4b72-ab74-b4ee9c8911f9"
      },
      "execution_count": 7,
      "outputs": [
        {
          "output_type": "execute_result",
          "data": {
            "text/plain": [
              "array([45, 45, 45, 45, 45, 45, 45, 45, 45])"
            ]
          },
          "metadata": {},
          "execution_count": 7
        }
      ]
    },
    {
      "cell_type": "code",
      "source": [
        "s[1:4]"
      ],
      "metadata": {
        "colab": {
          "base_uri": "https://localhost:8080/"
        },
        "id": "aGb448E500fb",
        "outputId": "65335002-d175-40e3-b3b5-bb82d2f59721"
      },
      "execution_count": 8,
      "outputs": [
        {
          "output_type": "execute_result",
          "data": {
            "text/plain": [
              "array([[6, 7, 2, 1, 9, 5, 3, 4, 8],\n",
              "       [1, 9, 8, 3, 4, 2, 5, 6, 7],\n",
              "       [8, 5, 9, 7, 6, 1, 4, 2, 3]])"
            ]
          },
          "metadata": {},
          "execution_count": 8
        }
      ]
    },
    {
      "cell_type": "code",
      "source": [
        "import numpy as np\n",
        "c=np.sum(s,axis=0)\n",
        "for i in c:\n",
        "  if i!=45:\n",
        "    print(\"not valid\" )\n",
        "    break;\n",
        "else:\n",
        "      print(\"valid\")\n"
      ],
      "metadata": {
        "colab": {
          "base_uri": "https://localhost:8080/"
        },
        "id": "ieTAYTlb8p7o",
        "outputId": "0a731fd3-6bd1-41f0-9473-52cbf314f855"
      },
      "execution_count": 15,
      "outputs": [
        {
          "output_type": "stream",
          "name": "stdout",
          "text": [
            "valid\n"
          ]
        }
      ]
    },
    {
      "cell_type": "code",
      "source": [
        "import numpy as np\n",
        "\n",
        "# Columns: [Age, Math Marks, Science Marks]\n",
        "data = np.array([\n",
        "    [18, 85, 78],   # Student 1\n",
        "    [19, 92, 88],   # Student 2\n",
        "    [17, 76, 95],   # Student 3\n",
        "    [18, 65, 70],   # Student 4\n",
        "    [20, 90, 85]    # Student 5\n",
        "])"
      ],
      "metadata": {
        "id": "qc5Zm_NC-muY"
      },
      "execution_count": 16,
      "outputs": []
    },
    {
      "cell_type": "code",
      "source": [
        "np.shape(data)"
      ],
      "metadata": {
        "colab": {
          "base_uri": "https://localhost:8080/"
        },
        "id": "jR43WSow-pnU",
        "outputId": "36a2b4c8-9819-441d-8bdf-ea4d7dee81d5"
      },
      "execution_count": 23,
      "outputs": [
        {
          "output_type": "execute_result",
          "data": {
            "text/plain": [
              "(5, 3)"
            ]
          },
          "metadata": {},
          "execution_count": 23
        }
      ]
    },
    {
      "cell_type": "markdown",
      "source": [
        "#Find the average age of students.\n",
        "**bold text**"
      ],
      "metadata": {
        "id": "v4BgRkbH_ZjN"
      }
    },
    {
      "cell_type": "code",
      "source": [
        "av=np.mean([data[:,0]])\n",
        "print(av)"
      ],
      "metadata": {
        "colab": {
          "base_uri": "https://localhost:8080/"
        },
        "id": "ofGaGYUY_bGg",
        "outputId": "5920aa27-ab19-4c80-a451-ee3b66c75df3"
      },
      "execution_count": 25,
      "outputs": [
        {
          "output_type": "stream",
          "name": "stdout",
          "text": [
            "18.4\n"
          ]
        }
      ]
    },
    {
      "cell_type": "code",
      "source": [
        "data[:,1]"
      ],
      "metadata": {
        "colab": {
          "base_uri": "https://localhost:8080/"
        },
        "id": "rgCf3OnMAJO0",
        "outputId": "437e4008-6124-48d7-f276-b35b3b94439f"
      },
      "execution_count": 27,
      "outputs": [
        {
          "output_type": "execute_result",
          "data": {
            "text/plain": [
              "array([85, 92, 76, 65, 90])"
            ]
          },
          "metadata": {},
          "execution_count": 27
        }
      ]
    },
    {
      "cell_type": "code",
      "source": [
        "max_mrk=np.max(data[:,2])\n",
        "print(max_mrk)"
      ],
      "metadata": {
        "colab": {
          "base_uri": "https://localhost:8080/"
        },
        "id": "ddOURmybAkql",
        "outputId": "78dfbfa3-3255-4182-fcf0-f8610eb9f75a"
      },
      "execution_count": 33,
      "outputs": [
        {
          "output_type": "stream",
          "name": "stdout",
          "text": [
            "95\n"
          ]
        }
      ]
    }
  ]
}