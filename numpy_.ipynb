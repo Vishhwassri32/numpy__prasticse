{
  "nbformat": 4,
  "nbformat_minor": 0,
  "metadata": {
    "colab": {
      "provenance": [],
      "authorship_tag": "ABX9TyOQPV5ne9/iIOHvMlrnCb/X",
      "include_colab_link": true
    },
    "kernelspec": {
      "name": "python3",
      "display_name": "Python 3"
    },
    "language_info": {
      "name": "python"
    }
  },
  "cells": [
    {
      "cell_type": "markdown",
      "metadata": {
        "id": "view-in-github",
        "colab_type": "text"
      },
      "source": [
        "<a href=\"https://colab.research.google.com/github/Vishhwassri32/numpy__prasticse/blob/main/numpy_.ipynb\" target=\"_parent\"><img src=\"https://colab.research.google.com/assets/colab-badge.svg\" alt=\"Open In Colab\"/></a>"
      ]
    },
    {
      "cell_type": "code",
      "execution_count": 2,
      "metadata": {
        "id": "SG7PP1QSmcNn"
      },
      "outputs": [],
      "source": [
        "import numpy as np\n",
        "students = np.array([\"Aman\", \"Vishwas\", \"Priya\", \"Rohit\", \"Neha\"])\n",
        "\n",
        "# Marks: [Maths, Science, English]\n",
        "marks = np.array([\n",
        "    [78, 85, 90],\n",
        "    [90, 88, 95],\n",
        "    [65, 70, 60],\n",
        "    [82, 79, 85],\n",
        "    [95, 92, 98]\n",
        "])\n"
      ]
    },
    {
      "cell_type": "code",
      "source": [
        "np.sum(marks)"
      ],
      "metadata": {
        "colab": {
          "base_uri": "https://localhost:8080/"
        },
        "id": "qh1pPO0onFCG",
        "outputId": "35c9997d-1ef7-4536-c012-400d5f8bd189"
      },
      "execution_count": 3,
      "outputs": [
        {
          "output_type": "execute_result",
          "data": {
            "text/plain": [
              "np.int64(1252)"
            ]
          },
          "metadata": {},
          "execution_count": 3
        }
      ]
    },
    {
      "cell_type": "code",
      "source": [
        "np.max"
      ],
      "metadata": {
        "colab": {
          "base_uri": "https://localhost:8080/"
        },
        "id": "nePlD8gunWBV",
        "outputId": "b278bfba-9d3d-4d80-e901-8fd43c46fe0a"
      },
      "execution_count": 4,
      "outputs": [
        {
          "output_type": "execute_result",
          "data": {
            "text/plain": [
              "<function max at 0x78f2ae9ef670>"
            ]
          },
          "metadata": {},
          "execution_count": 4
        }
      ]
    },
    {
      "cell_type": "code",
      "source": [
        "np.min"
      ],
      "metadata": {
        "colab": {
          "base_uri": "https://localhost:8080/"
        },
        "id": "AFDF06FMnc_d",
        "outputId": "0f9038e3-d678-4661-87d0-825cdf12625b"
      },
      "execution_count": 5,
      "outputs": [
        {
          "output_type": "execute_result",
          "data": {
            "text/plain": [
              "<function min at 0x78f2ae9efa70>"
            ]
          },
          "metadata": {},
          "execution_count": 5
        }
      ]
    },
    {
      "cell_type": "code",
      "source": [
        "# 1. हर student का average marks\n",
        "avg_marks = marks.mean(axis=1)\n",
        "print(\"Average Marks of Students:\", avg_marks)\n",
        "\n",
        "# 2. हर subject का topper\n",
        "subject_topper = marks.argmax(axis=0)\n",
        "print(\"Maths Topper:\", students[subject_topper[0]])\n",
        "print(\"Science Topper:\", students[subject_topper[1]])\n",
        "print(\"English Topper:\", students[subject_topper[2]])\n",
        "\n",
        "# 3. Overall topper\n",
        "overall_topper = avg_marks.argmax()\n",
        "print(\"Overall Topper:\", students[overall_topper])\n",
        "\n",
        "# 4. Subject-wise average\n",
        "subject_avg = marks.mean(axis=0)\n",
        "print(\"Average in Maths, Science, English:\", subject_avg)\n",
        "\n",
        "# 5. Pass/Fail (assume pass = 40+ in all subjects)\n",
        "pass_fail = np.all(marks >= 40, axis=1)\n",
        "print(\"Pass/Fail Status:\", pass_fail)\n"
      ],
      "metadata": {
        "colab": {
          "base_uri": "https://localhost:8080/"
        },
        "id": "KL_FtDQioRDH",
        "outputId": "142b54bf-c4dc-4d22-8086-b6d9c8581c6a"
      },
      "execution_count": 8,
      "outputs": [
        {
          "output_type": "stream",
          "name": "stdout",
          "text": [
            "Average Marks of Students: [84.33333333 91.         65.         82.         95.        ]\n",
            "Maths Topper: Neha\n",
            "Science Topper: Neha\n",
            "English Topper: Neha\n",
            "Overall Topper: Neha\n",
            "Average in Maths, Science, English: [82.  82.8 85.6]\n",
            "Pass/Fail Status: [ True  True  True  True  True]\n"
          ]
        }
      ]
    },
    {
      "cell_type": "code",
      "source": [
        "dta=np.mean(marks)\n",
        "print(dta)"
      ],
      "metadata": {
        "colab": {
          "base_uri": "https://localhost:8080/"
        },
        "id": "JfbmY5Blr9tp",
        "outputId": "136d408c-7ab4-47b4-d1fa-876f909f11fb"
      },
      "execution_count": 10,
      "outputs": [
        {
          "output_type": "stream",
          "name": "stdout",
          "text": [
            "83.46666666666667\n"
          ]
        }
      ]
    },
    {
      "cell_type": "code",
      "source": [
        "dte=np.median(marks)\n",
        "print(dte)"
      ],
      "metadata": {
        "colab": {
          "base_uri": "https://localhost:8080/"
        },
        "id": "WkVq6mlQsPVt",
        "outputId": "206e7e9b-c189-4260-85a9-84e79e07f287"
      },
      "execution_count": 12,
      "outputs": [
        {
          "output_type": "stream",
          "name": "stdout",
          "text": [
            "85.0\n"
          ]
        }
      ]
    },
    {
      "cell_type": "code",
      "source": [
        "dte=np.std(marks)\n",
        "print(dte)"
      ],
      "metadata": {
        "colab": {
          "base_uri": "https://localhost:8080/"
        },
        "id": "X29IyfiCs1U4",
        "outputId": "c0c542a3-0211-430b-9e75-0272f5fba8b0"
      },
      "execution_count": 13,
      "outputs": [
        {
          "output_type": "stream",
          "name": "stdout",
          "text": [
            "10.91095270308184\n"
          ]
        }
      ]
    },
    {
      "cell_type": "code",
      "source": [
        "dte=np.var(marks)\n",
        "print(dte)"
      ],
      "metadata": {
        "colab": {
          "base_uri": "https://localhost:8080/"
        },
        "id": "FYzrVfkMtFV1",
        "outputId": "fc0ecdd6-f52a-4b6c-da0d-882796a03fe8"
      },
      "execution_count": 14,
      "outputs": [
        {
          "output_type": "stream",
          "name": "stdout",
          "text": [
            "119.0488888888889\n"
          ]
        }
      ]
    },
    {
      "cell_type": "code",
      "source": [
        "dte=np.min(marks)\n",
        "print(\" min marks ofsudent :\",dte)\n",
        "dte=np.max(marks)\n",
        "print(\" max marks ofsudent :\",dte)"
      ],
      "metadata": {
        "colab": {
          "base_uri": "https://localhost:8080/"
        },
        "id": "XHmn9dQ9ucGa",
        "outputId": "d8e0c335-f112-436c-f02c-24cbfac7b76c"
      },
      "execution_count": 18,
      "outputs": [
        {
          "output_type": "stream",
          "name": "stdout",
          "text": [
            " min marks ofsudent : 60\n",
            " max marks ofsudent : 98\n"
          ]
        }
      ]
    }
  ]
}